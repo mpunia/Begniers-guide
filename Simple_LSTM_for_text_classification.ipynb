{
  "nbformat": 4,
  "nbformat_minor": 0,
  "metadata": {
    "colab": {
      "name": "Simple LSTM for text classification",
      "provenance": [],
      "collapsed_sections": [],
      "authorship_tag": "ABX9TyOrwlzP6ILGJGaPTnMZf3n8",
      "include_colab_link": true
    },
    "kernelspec": {
      "name": "python3",
      "display_name": "Python 3"
    }
  },
  "cells": [
    {
      "cell_type": "markdown",
      "metadata": {
        "id": "view-in-github",
        "colab_type": "text"
      },
      "source": [
        "<a href=\"https://colab.research.google.com/github/mpunia/Begniers-guide/blob/main/Simple_LSTM_for_text_classification.ipynb\" target=\"_parent\"><img src=\"https://colab.research.google.com/assets/colab-badge.svg\" alt=\"Open In Colab\"/></a>"
      ]
    },
    {
      "cell_type": "code",
      "metadata": {
        "id": "1ECj7AxsO0sQ"
      },
      "source": [
        "import pandas as pd\n",
        "import numpy as np\n",
        "import matplotlib.pyplot as plt\n",
        "import seaborn as sns\n",
        "from sklearn.model_selection import train_test_split\n",
        "from sklearn.preprocessing import LabelEncoder\n",
        "from keras.models import Model\n",
        "from keras.layers import LSTM, Activation, Dense, Dropout, Input, Embedding\n",
        "from keras.optimizers import RMSprop\n",
        "from keras.preprocessing.text import Tokenizer\n",
        "from keras.preprocessing import sequence\n",
        "from keras.utils import to_categorical\n",
        "from keras.callbacks import EarlyStopping\n",
        "%matplotlib inline"
      ],
      "execution_count": 1,
      "outputs": []
    },
    {
      "cell_type": "code",
      "metadata": {
        "id": "pcWtPH12U7cv",
        "outputId": "10e8a2bc-ae2f-4c26-e89f-71e71571fb5f",
        "colab": {
          "base_uri": "https://localhost:8080/",
          "height": 34
        }
      },
      "source": [
        "import chardet\n",
        "file='/content/spam.csv'\n",
        "with open(file , 'rb') as check_encoding:\n",
        "  result = chardet.detect(check_encoding.read(1000))\n",
        "result"
      ],
      "execution_count": 3,
      "outputs": [
        {
          "output_type": "execute_result",
          "data": {
            "text/plain": [
              "{'confidence': 0.73, 'encoding': 'ISO-8859-1', 'language': ''}"
            ]
          },
          "metadata": {
            "tags": []
          },
          "execution_count": 3
        }
      ]
    },
    {
      "cell_type": "code",
      "metadata": {
        "id": "8g75RNjOPcGf",
        "outputId": "ba9ac5bf-44bd-49ee-d964-d118844e7c53",
        "colab": {
          "base_uri": "https://localhost:8080/",
          "height": 204
        }
      },
      "source": [
        "\n",
        "df= pd.read_csv(file ,delimiter=',' , encoding='ISO-8859-1')\n",
        "df.head()"
      ],
      "execution_count": 4,
      "outputs": [
        {
          "output_type": "execute_result",
          "data": {
            "text/html": [
              "<div>\n",
              "<style scoped>\n",
              "    .dataframe tbody tr th:only-of-type {\n",
              "        vertical-align: middle;\n",
              "    }\n",
              "\n",
              "    .dataframe tbody tr th {\n",
              "        vertical-align: top;\n",
              "    }\n",
              "\n",
              "    .dataframe thead th {\n",
              "        text-align: right;\n",
              "    }\n",
              "</style>\n",
              "<table border=\"1\" class=\"dataframe\">\n",
              "  <thead>\n",
              "    <tr style=\"text-align: right;\">\n",
              "      <th></th>\n",
              "      <th>v1</th>\n",
              "      <th>v2</th>\n",
              "      <th>Unnamed: 2</th>\n",
              "      <th>Unnamed: 3</th>\n",
              "      <th>Unnamed: 4</th>\n",
              "    </tr>\n",
              "  </thead>\n",
              "  <tbody>\n",
              "    <tr>\n",
              "      <th>0</th>\n",
              "      <td>ham</td>\n",
              "      <td>Go until jurong point, crazy.. Available only ...</td>\n",
              "      <td>NaN</td>\n",
              "      <td>NaN</td>\n",
              "      <td>NaN</td>\n",
              "    </tr>\n",
              "    <tr>\n",
              "      <th>1</th>\n",
              "      <td>ham</td>\n",
              "      <td>Ok lar... Joking wif u oni...</td>\n",
              "      <td>NaN</td>\n",
              "      <td>NaN</td>\n",
              "      <td>NaN</td>\n",
              "    </tr>\n",
              "    <tr>\n",
              "      <th>2</th>\n",
              "      <td>spam</td>\n",
              "      <td>Free entry in 2 a wkly comp to win FA Cup fina...</td>\n",
              "      <td>NaN</td>\n",
              "      <td>NaN</td>\n",
              "      <td>NaN</td>\n",
              "    </tr>\n",
              "    <tr>\n",
              "      <th>3</th>\n",
              "      <td>ham</td>\n",
              "      <td>U dun say so early hor... U c already then say...</td>\n",
              "      <td>NaN</td>\n",
              "      <td>NaN</td>\n",
              "      <td>NaN</td>\n",
              "    </tr>\n",
              "    <tr>\n",
              "      <th>4</th>\n",
              "      <td>ham</td>\n",
              "      <td>Nah I don't think he goes to usf, he lives aro...</td>\n",
              "      <td>NaN</td>\n",
              "      <td>NaN</td>\n",
              "      <td>NaN</td>\n",
              "    </tr>\n",
              "  </tbody>\n",
              "</table>\n",
              "</div>"
            ],
            "text/plain": [
              "     v1  ... Unnamed: 4\n",
              "0   ham  ...        NaN\n",
              "1   ham  ...        NaN\n",
              "2  spam  ...        NaN\n",
              "3   ham  ...        NaN\n",
              "4   ham  ...        NaN\n",
              "\n",
              "[5 rows x 5 columns]"
            ]
          },
          "metadata": {
            "tags": []
          },
          "execution_count": 4
        }
      ]
    },
    {
      "cell_type": "code",
      "metadata": {
        "id": "Up1aDopXZcjU"
      },
      "source": [
        "df = df.drop(['Unnamed: 2' , 'Unnamed: 3'  , 'Unnamed: 4'], axis=1)\n"
      ],
      "execution_count": 5,
      "outputs": []
    },
    {
      "cell_type": "code",
      "metadata": {
        "id": "Q4fG_HrYdZ5i",
        "outputId": "b0476ae5-cb1a-481c-eb0e-d23f1c7b6689",
        "colab": {
          "base_uri": "https://localhost:8080/",
          "height": 366
        }
      },
      "source": [
        "sns.countplot(df['v1'])\n",
        "plt.xlabel('label')\n",
        "plt.title('No of hama nd spam')"
      ],
      "execution_count": 6,
      "outputs": [
        {
          "output_type": "stream",
          "text": [
            "/usr/local/lib/python3.6/dist-packages/seaborn/_decorators.py:43: FutureWarning: Pass the following variable as a keyword arg: x. From version 0.12, the only valid positional argument will be `data`, and passing other arguments without an explicit keyword will result in an error or misinterpretation.\n",
            "  FutureWarning\n"
          ],
          "name": "stderr"
        },
        {
          "output_type": "execute_result",
          "data": {
            "text/plain": [
              "Text(0.5, 1.0, 'No of hama nd spam')"
            ]
          },
          "metadata": {
            "tags": []
          },
          "execution_count": 6
        },
        {
          "output_type": "display_data",
          "data": {
            "image/png": "[encoded data removed]",
            "text/plain": [
              "<Figure size 432x288 with 1 Axes>"
            ]
          },
          "metadata": {
            "tags": [],
            "needs_background": "light"
          }
        }
      ]
    },
    {
      "cell_type": "code",
      "metadata": {
        "id": "-EaV4vz68tnY",
        "outputId": "dab0eca1-b524-4606-cb68-cec964a6db16",
        "colab": {
          "base_uri": "https://localhost:8080/",
          "height": 170
        }
      },
      "source": [
        "df.info()"
      ],
      "execution_count": 7,
      "outputs": [
        {
          "output_type": "stream",
          "text": [
            "<class 'pandas.core.frame.DataFrame'>\n",
            "RangeIndex: 5572 entries, 0 to 5571\n",
            "Data columns (total 2 columns):\n",
            " #   Column  Non-Null Count  Dtype \n",
            "---  ------  --------------  ----- \n",
            " 0   v1      5572 non-null   object\n",
            " 1   v2      5572 non-null   object\n",
            "dtypes: object(2)\n",
            "memory usage: 87.2+ KB\n"
          ],
          "name": "stdout"
        }
      ]
    },
    {
      "cell_type": "markdown",
      "metadata": {
        "id": "BeZ45PMfeLPL"
      },
      "source": [
        "So this is a imbalance dataset"
      ]
    },
    {
      "cell_type": "code",
      "metadata": {
        "id": "nqddXNN6Phfh"
      },
      "source": [
        "from sklearn.preprocessing import LabelEncoder\n",
        "X = df['v2']\n",
        "y = df['v1']\n",
        "\n",
        "le = LabelEncoder()\n",
        "y = le.fit_transform(y)\n",
        "Y = y.reshape(-1,1)"
      ],
      "execution_count": 8,
      "outputs": []
    },
    {
      "cell_type": "code",
      "metadata": {
        "id": "xLeCE5zUgiK2"
      },
      "source": [
        "from sklearn.model_selection import train_test_split\n",
        "x_train , x_test , y_train , y_test = train_test_split(X , y ,test_size=0.20)"
      ],
      "execution_count": 9,
      "outputs": []
    },
    {
      "cell_type": "markdown",
      "metadata": {
        "id": "-v96mwYK9ZWL"
      },
      "source": [
        "Tokenize the data and convert the text into sequence\n"
      ]
    },
    {
      "cell_type": "code",
      "metadata": {
        "id": "sdm60T2p9Uuo"
      },
      "source": [
        "from keras.preprocessing.text import Tokenizer\n",
        "from keras.preprocessing.sequence import pad_sequences\n",
        "max_words =1500\n",
        "max_len = 120\n",
        "tok = Tokenizer(num_words=1500)\n",
        "tok.fit_on_texts(x_train)\n",
        "sequence = tok.texts_to_sequences(x_train)\n",
        "sequence_matrix = pad_sequences(sequence , maxlen= max_len)"
      ],
      "execution_count": 10,
      "outputs": []
    },
    {
      "cell_type": "code",
      "metadata": {
        "id": "YMuuKFf6Yxei"
      },
      "source": [
        "from keras.layers import LSTM, Activation, Dense, Dropout, Input, Embedding\n",
        "from keras.models import Model\n",
        "from keras.optimizers import Adam\n",
        "from keras.preprocessing import sequence\n",
        "\n",
        "\n",
        "def rnn():\n",
        "  inputs = Input(name = 'input' , shape = [max_len])\n",
        "  layer = Embedding(max_words , 40 , input_length = max_len)(inputs)\n",
        "  layer = LSTM(64)(layer)\n",
        "  layer = Dense(256 )(layer)\n",
        "  layer = Activation('relu')(layer)\n",
        "  layer = Dropout(0.5)(layer)\n",
        "  layer = Dense(1)(layer)\n",
        "  layer = Activation('sigmoid')(layer)\n",
        "  model = Model(inputs = inputs , outputs= layer)\n",
        "  return model"
      ],
      "execution_count": 11,
      "outputs": []
    },
    {
      "cell_type": "markdown",
      "metadata": {
        "id": "Luks0JZBigXq"
      },
      "source": [
        "Calling the function And compile the model"
      ]
    },
    {
      "cell_type": "code",
      "metadata": {
        "id": "zARI61UtYtnk",
        "outputId": "3c36ef54-b46b-49c0-df15-a8470df2d720",
        "colab": {
          "base_uri": "https://localhost:8080/",
          "height": 425
        }
      },
      "source": [
        "model = rnn()\n",
        "model.summary()\n",
        "model.compile(loss = 'binary_crossentropy' , optimizer = RMSprop(), metrics = ['accuracy'])"
      ],
      "execution_count": 12,
      "outputs": [
        {
          "output_type": "stream",
          "text": [
            "Model: \"functional_1\"\n",
            "_________________________________________________________________\n",
            "Layer (type)                 Output Shape              Param #   \n",
            "=================================================================\n",
            "input (InputLayer)           [(None, 120)]             0         \n",
            "_________________________________________________________________\n",
            "embedding (Embedding)        (None, 120, 40)           60000     \n",
            "_________________________________________________________________\n",
            "lstm (LSTM)                  (None, 64)                26880     \n",
            "_________________________________________________________________\n",
            "dense (Dense)                (None, 256)               16640     \n",
            "_________________________________________________________________\n",
            "activation (Activation)      (None, 256)               0         \n",
            "_________________________________________________________________\n",
            "dropout (Dropout)            (None, 256)               0         \n",
            "_________________________________________________________________\n",
            "dense_1 (Dense)              (None, 1)                 257       \n",
            "_________________________________________________________________\n",
            "activation_1 (Activation)    (None, 1)                 0         \n",
            "=================================================================\n",
            "Total params: 103,777\n",
            "Trainable params: 103,777\n",
            "Non-trainable params: 0\n",
            "_________________________________________________________________\n"
          ],
          "name": "stdout"
        }
      ]
    },
    {
      "cell_type": "markdown",
      "metadata": {
        "id": "uQ5jDabL5kkW"
      },
      "source": [
        "Fit on training data"
      ]
    },
    {
      "cell_type": "code",
      "metadata": {
        "id": "tnqq-2RFcIzM",
        "outputId": "35114a84-07b8-4f14-ee5e-b3352bc253d6",
        "colab": {
          "base_uri": "https://localhost:8080/",
          "height": 292
        }
      },
      "source": [
        "model.fit(sequence_matrix,y_train , batch_size=128,epochs=12,validation_split=0.2, callbacks=[EarlyStopping(monitor= 'val_loss')])"
      ],
      "execution_count": 13,
      "outputs": [
        {
          "output_type": "stream",
          "text": [
            "Epoch 1/12\n",
            "28/28 [==============================] - 4s 159ms/step - loss: 0.3030 - accuracy: 0.8951 - val_loss: 0.1534 - val_accuracy: 0.9630\n",
            "Epoch 2/12\n",
            "28/28 [==============================] - 4s 143ms/step - loss: 0.0811 - accuracy: 0.9801 - val_loss: 0.0752 - val_accuracy: 0.9809\n",
            "Epoch 3/12\n",
            "28/28 [==============================] - 4s 150ms/step - loss: 0.0331 - accuracy: 0.9899 - val_loss: 0.0676 - val_accuracy: 0.9854\n",
            "Epoch 4/12\n",
            "28/28 [==============================] - 4s 152ms/step - loss: 0.0244 - accuracy: 0.9913 - val_loss: 0.0665 - val_accuracy: 0.9821\n",
            "Epoch 5/12\n",
            "28/28 [==============================] - 4s 144ms/step - loss: 0.0235 - accuracy: 0.9924 - val_loss: 0.0659 - val_accuracy: 0.9821\n",
            "Epoch 6/12\n",
            "28/28 [==============================] - 4s 141ms/step - loss: 0.0154 - accuracy: 0.9950 - val_loss: 0.0642 - val_accuracy: 0.9809\n",
            "Epoch 7/12\n",
            "28/28 [==============================] - 4s 140ms/step - loss: 0.0106 - accuracy: 0.9966 - val_loss: 0.0682 - val_accuracy: 0.9765\n"
          ],
          "name": "stdout"
        },
        {
          "output_type": "execute_result",
          "data": {
            "text/plain": [
              "<tensorflow.python.keras.callbacks.History at 0x7f7707455be0>"
            ]
          },
          "metadata": {
            "tags": []
          },
          "execution_count": 13
        }
      ]
    },
    {
      "cell_type": "code",
      "metadata": {
        "id": "5TL1pftmBpA0"
      },
      "source": [
        "test_sequences = tok.texts_to_sequences(x_test)\n",
        "test_sequences_matrix = sequence.pad_sequences(test_sequences,maxlen=max_len)"
      ],
      "execution_count": 14,
      "outputs": []
    },
    {
      "cell_type": "code",
      "metadata": {
        "id": "DaChzQiG9PxF",
        "outputId": "73333d69-c336-4aec-ed55-90ed4d26439c",
        "colab": {
          "base_uri": "https://localhost:8080/",
          "height": 34
        }
      },
      "source": [
        "accr = model.evaluate(test_sequences_matrix,y_test)\n"
      ],
      "execution_count": 15,
      "outputs": [
        {
          "output_type": "stream",
          "text": [
            "35/35 [==============================] - 1s 15ms/step - loss: 0.0783 - accuracy: 0.9839\n"
          ],
          "name": "stdout"
        }
      ]
    },
    {
      "cell_type": "code",
      "metadata": {
        "id": "jFVvmxwQ9MSn",
        "outputId": "3aab91a2-7e25-4113-fe18-b6e13feb201d",
        "colab": {
          "base_uri": "https://localhost:8080/",
          "height": 68
        }
      },
      "source": [
        "print('Test set\\n  Loss: {:0.3f}\\n  Accuracy: {:0.3f}'.format(accr[0],accr[1]))\n"
      ],
      "execution_count": 16,
      "outputs": [
        {
          "output_type": "stream",
          "text": [
            "Test set\n",
            "  Loss: 0.078\n",
            "  Accuracy: 0.984\n"
          ],
          "name": "stdout"
        }
      ]
    }
  ]
}